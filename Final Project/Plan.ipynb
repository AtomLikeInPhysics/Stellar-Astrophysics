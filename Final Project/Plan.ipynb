{
 "cells": [
  {
   "cell_type": "markdown",
   "metadata": {},
   "source": [
    "## Steps to Do:\n",
    "\n",
    "1. review types of variable stars, the history, and interesting effects.\n",
    "2. mess with eq.(14.7) and eq.(14.8) in Carrol & Ostile 2nd. ed to make a mathematical model.\n",
    "3. Find a variable star with known data and period to compare to my model.\n",
    "4. combine all into a 30ish min presentation.\n",
    "\n",
    "## For the DiffEq:\n",
    "\n",
    "1. read through computational book to find information about 2nd order DiffEq. Use Runga-Cutta\n",
    "2. Code the linear case with the simple model in Ex. 14.3.1.\n",
    "3. Try the nonlinear case.\n",
    "4. compare to chosen variable star."
   ]
  },
  {
   "cell_type": "markdown",
   "metadata": {},
   "source": [
    "## Equation 14.7:\n",
    "\n",
    "$\\rho \\frac{d^2 r}{dt^2} = -G\\frac{M_r \\rho}{r^2} - \\frac{dP}{dr}$"
   ]
  },
  {
   "cell_type": "markdown",
   "metadata": {},
   "source": [
    "## Equation 14.8:\n",
    "\n",
    "$m \\frac{d^2 R}{dt^2} = -G\\frac{M m}{R^2} - 4\\pi R^2 P$"
   ]
  },
  {
   "cell_type": "markdown",
   "metadata": {},
   "source": []
  }
 ],
 "metadata": {
  "language_info": {
   "name": "python"
  }
 },
 "nbformat": 4,
 "nbformat_minor": 2
}
