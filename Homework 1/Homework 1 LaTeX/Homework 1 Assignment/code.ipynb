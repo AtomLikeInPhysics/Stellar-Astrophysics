{
 "cells": [
  {
   "cell_type": "markdown",
   "metadata": {},
   "source": [
    "The purpose of this notebook is to complete all questions assigned for the first homework assignment in Stellar Astrophysics. I will first rewrite the questions and then provide the coded solution.\n"
   ]
  },
  {
   "cell_type": "markdown",
   "metadata": {},
   "source": [
    "Question 1: The planet Venus is only $d_{⊕} = 0.28 AU$ from the Earth at closest\n",
    "approach and can reach a maximum distance of $d_{⊕} = 1.72 AU$ when it is on\n",
    "the opposite side of the Sun. This planet has a physical radius of Venus is\n",
    "$R_{♀} ≈ 6.1 × 10^8cm$.\n",
    "\n",
    "(a) Using Python, create an array of distances between Earth and Venus\n",
    "from their closest physical separation to their largest with step sizes of\n",
    "$∆d_{step} = 0.1 AU$. Determine the solid angle that Venus subtends on the\n",
    "sky at each of these distances. Create a plot of solid angle (y-axis) vs.\n",
    "Earth–Venus physical separation distance (x-axis) using Python. Be\n",
    "sure to label your axes with units.\n",
    "\n",
    "(b) What is the percent difference in the two most extreme solid angles\n",
    "(i.e., the minimum and maximum)? What fraction of the total sky do\n",
    "the two most extreme solid angles that Venus subtends represent?\n",
    "\n",
    "(c) The visible power output (i.e., luminosity of the colors of light that we\n",
    "can see with our eyes) of the planet Venus is roughly $L_{Visible, Venus,} ≈ 5\\times10^{23} \\frac{ergs}{s}$. What is the ratio of Venus’ flux when the planet is closest to Earth to when it is furthest from Earth (i.e., $F_{Venus, closest}/F_{Venus, farthest}$)?\n",
    "What is the ratio of Venus’ intensity when the planet is closest to Earth\n",
    "to when it is furthest from Earth (i.e., $I_{Venus, closest}/I_{Venus, farthest}$)? Are\n",
    "these flux and intensity ratios the same or different? Be sure to explain\n",
    "why or why not.\n"
   ]
  },
  {
   "cell_type": "markdown",
   "metadata": {},
   "source": [
    "# (a)\n"
   ]
  },
  {
   "cell_type": "markdown",
   "metadata": {},
   "source": [
    "For part a, I will need to firstly import the numpy library in order to use arrays. Then I will use the known values of the closest approach and farthest distance of Venus from Earth as endpoints when making the array of values. By adding a 3rd condition on my array I can choose the step size, which for this problem is 0.1AU."
   ]
  },
  {
   "cell_type": "code",
   "execution_count": 1,
   "metadata": {},
   "outputs": [],
   "source": [
    "import numpy as np #importing the numpy library under the name np. This will help make the code more readable."
   ]
  },
  {
   "cell_type": "code",
   "execution_count": 2,
   "metadata": {},
   "outputs": [
    {
     "name": "stdout",
     "output_type": "stream",
     "text": [
      "[0.28 0.38 0.48 0.58 0.68 0.78 0.88 0.98 1.08 1.18 1.28 1.38 1.48 1.58\n",
      " 1.68]\n"
     ]
    }
   ],
   "source": [
    "dClose = 0.28   #Distance to Earth at closest approach in units of AU\n",
    "dFar = 1.72     #Distance to Earth at max distance away in units of AU\n",
    "dStep = 0.1     #Step between each distance point between dClose and dFar in units of AU\n",
    "\n",
    "\n",
    "distEtoV = np.arange(dClose,dFar,dStep)     #Generate a numpy array with starting point dClose, ending point dFar, and a step size of dStep\n",
    "print(distEtoV)       #Uncomment to view the array"
   ]
  },
  {
   "cell_type": "markdown",
   "metadata": {},
   "source": [
    "Next I will determine the solid angle that venus has on the sky at each of these distances. I will accomplish this by making a python function that takes distance as an argument and returns the solid angle at that ditance. I will save each value in a python list."
   ]
  },
  {
   "cell_type": "code",
   "execution_count": 3,
   "metadata": {},
   "outputs": [],
   "source": [
    "rVenus = 6.1e8      #Radius of Venus in units of cm\n",
    "\n",
    "def SolidAng(d):                        #Create a function that returns the value of the solid angle at a given distance. \n",
    "                                        #NOTE this function assumes that the distance given is in cm!\n",
    "    return(np.pi * (rVenus**2 / d**2))"
   ]
  },
  {
   "cell_type": "markdown",
   "metadata": {},
   "source": [
    "Because the function for calculating the solid angle is based on the radius of the planet which is given in cm (as per the usual csg units) I need to make another funciton that will convert AU to cm."
   ]
  },
  {
   "cell_type": "code",
   "execution_count": 4,
   "metadata": {},
   "outputs": [],
   "source": [
    "def AUtoCM(x):          #Convert a value x AU to cm units\n",
    "    return(x * 1.496e13)"
   ]
  },
  {
   "cell_type": "markdown",
   "metadata": {},
   "source": [
    "The next cell will calculate the solid angle for each distance and save those values in a list."
   ]
  },
  {
   "cell_type": "code",
   "execution_count": 5,
   "metadata": {},
   "outputs": [
    {
     "name": "stdout",
     "output_type": "stream",
     "text": [
      "[6.66239370e-08 3.61725531e-08 2.26706452e-08 1.55271007e-08\n",
      " 1.12961000e-08 8.58533311e-09 6.74498536e-09 5.43868874e-09\n",
      " 4.47815215e-09 3.75130470e-09 3.18805949e-09 2.74276237e-09\n",
      " 2.38464055e-09 2.09233963e-09 1.85066492e-09]\n"
     ]
    }
   ],
   "source": [
    "vSA = np.empty(0)\n",
    "\n",
    "for i in range(len(distEtoV)):\n",
    "    vSA = np.append(vSA, SolidAng(AUtoCM(distEtoV[i])))\n",
    "\n",
    "print(vSA)"
   ]
  },
  {
   "cell_type": "code",
   "execution_count": 6,
   "metadata": {},
   "outputs": [],
   "source": [
    "import matplotlib.pyplot as plt"
   ]
  },
  {
   "cell_type": "code",
   "execution_count": 7,
   "metadata": {},
   "outputs": [
    {
     "data": {
      "image/png": "[encoded data removed]",
      "text/plain": [
       "<Figure size 640x480 with 1 Axes>"
      ]
     },
     "metadata": {},
     "output_type": "display_data"
    }
   ],
   "source": [
    "fig1 = plt.figure()\n",
    "a1 = plt.subplot()\n",
    "a1.scatter(distEtoV,vSA)\n",
    "a1.set_title(\"Solid Angle of Venus on the Sky as a Function of Distance\")\n",
    "a1.set_xlabel(\"Distance to Venus [AU]\")\n",
    "a1.set_ylabel(\"Solid Angle on the Sky [Sr]\")\n",
    "plt.show()"
   ]
  },
  {
   "cell_type": "markdown",
   "metadata": {},
   "source": [
    "# (b)"
   ]
  },
  {
   "cell_type": "markdown",
   "metadata": {},
   "source": [
    "For part b I will be using the max() and min() function in python to get the maximum and minimum solid angles of Venus. I will then find the percent difference between the two values."
   ]
  },
  {
   "cell_type": "code",
   "execution_count": 8,
   "metadata": {},
   "outputs": [
    {
     "name": "stdout",
     "output_type": "stream",
     "text": [
      "The percent difference between the minimum and maximum solid angle value is  2.7777777777777795 %\n"
     ]
    }
   ],
   "source": [
    "SAmax = max(vSA)\n",
    "SAmin = min(vSA)\n",
    "\n",
    "print(\"The percent difference between the minimum and maximum solid angle value is \",SAmin/SAmax * 100, \"%\")"
   ]
  },
  {
   "cell_type": "markdown",
   "metadata": {},
   "source": [
    "To determine what fraction of the total sky each angle represents ill start with the fact that the full solid angle for a sphere is $4 \\pi$. When we look at the sky we are at best getting half of the full solid angle of a sphere which is of course, $2 \\pi$."
   ]
  },
  {
   "cell_type": "code",
   "execution_count": 9,
   "metadata": {},
   "outputs": [
    {
     "name": "stdout",
     "output_type": "stream",
     "text": [
      "The fraction of the sky that venus represents at its maximum distance from Earth is: 1.0603528905485381e-08\n",
      "The fraction of the sky that venus represents at its minimum distance from Earth is: 2.945424695968163e-10\n"
     ]
    }
   ],
   "source": [
    "maxfrac = SAmax / (2 * np.pi)\n",
    "minfrac = SAmin / (2 * np.pi)\n",
    "\n",
    "print(\"The fraction of the sky that venus represents at its maximum distance from Earth is:\",maxfrac)\n",
    "print(\"The fraction of the sky that venus represents at its minimum distance from Earth is:\",minfrac)"
   ]
  },
  {
   "cell_type": "markdown",
   "metadata": {},
   "source": [
    "# (c)"
   ]
  },
  {
   "cell_type": "markdown",
   "metadata": {},
   "source": [
    "In lecture we found the equation for flux to be \n",
    "\\begin{align}\n",
    "F = \\frac{L}{dA}\n",
    "\\end{align}\n",
    "Which by integrating both sides with respect to dA:\n",
    "\\begin{align}\n",
    "\\begin{split}\n",
    "\\int{F}{dA} = \\int{\\frac{L}{dA}}{dA}\n",
    "\\\\\\\\\n",
    "F*{A} = L\n",
    "\\\\\\\\\n",
    "F = \\frac{L}{A}\n",
    "\\\\\\\\\n",
    "F = \\frac{L}{4 \\pi d^2}\n",
    "\\end{split}\n",
    "\\end{align}"
   ]
  },
  {
   "cell_type": "code",
   "execution_count": 10,
   "metadata": {},
   "outputs": [],
   "source": [
    "def vFlux(L,d):\n",
    "    return(L / (4 * np.pi * d**2))\n",
    "\n",
    "def vInt(L,d,sa):\n",
    "    return(L / (4 * np.pi * d**2 * sa))"
   ]
  },
  {
   "cell_type": "code",
   "execution_count": 15,
   "metadata": {},
   "outputs": [
    {
     "name": "stdout",
     "output_type": "stream",
     "text": [
      "The ratio of Venus' flux is: 37.73469387755102\n",
      "The ratio of Venus' intensity is: 1.0481859410430845\n"
     ]
    }
   ],
   "source": [
    "vLum = 5e23\n",
    "\n",
    "maxFlux = vFlux(vLum,dFar)\n",
    "minFlux = vFlux(vLum,dClose)\n",
    "maxInt = vInt(vLum,dFar, SAmin)\n",
    "minInt = vInt(vLum,dClose, SAmax)\n",
    "\n",
    "print(\"The ratio of Venus' flux is:\",minFlux/maxFlux)\n",
    "print(\"The ratio of Venus' intensity is:\",minInt/maxInt)"
   ]
  },
  {
   "cell_type": "markdown",
   "metadata": {},
   "source": [
    "Question 2: In this problem, you will explore how we observe the Sun from\n",
    "Earth and how we can use those properties to determine the physical properties of the Sun.\n",
    "\n",
    "(a) If the Sun subtends a solid angle Ω on the sky and the flux from the Sun\n",
    "just above the Earth’s atmosphere—integrated over all wavelengths— is f(d⊙), show that the flux at the solar photosphere is πf(d⊙)/Ω.\n",
    "\n",
    "(b) The angular diameter of the Sun is $0.57\\deg$. Calculate the solid angle subtended by the Sun in Steradians.\n",
    "\n",
    "(c) The solar flux at Earth is $f(d⊙) = 1.4 × 10^6 erg s^{−1} cm^{−2}$. Use part (b)\n",
    "and the Stefan-Boltzmann law, to derive the effective surface temperature of the Sun."
   ]
  },
  {
   "cell_type": "markdown",
   "metadata": {},
   "source": [
    "# 2(a)"
   ]
  },
  {
   "cell_type": "markdown",
   "metadata": {},
   "source": [
    "To find an expression for the flux at the solar photosphere ($F_{⊙}$) we need 2 equations from our lecture:\n",
    "\\begin{align}\n",
    "\\Omega = \\pi (\\frac{R_{⊙}}{d_{⊙}})^2 \\\\\n",
    "f(d_{⊙}) = \\frac{L_{⊙}}{4\\pi d_{⊙}^2}\n",
    "\\end{align}\n",
    "\n",
    "\n",
    "To find $F_{⊙}$ we first find the luminosity at the photosphere:\n",
    "\\begin{align}\n",
    "L_{⊙} = F_{⊙}  4\\pi R_{⊙}^2\n",
    "\\end{align}\n",
    "\n",
    "This expression can now be plugged into the expression for $f(d_{⊙})$:\n",
    "\\begin{align}\n",
    "f(d_{⊙}) = \\frac{F_{⊙}  \\cancel{4\\pi} R_{⊙}^2}{\\cancel{4\\pi} d_{⊙}^2}\\\\\n",
    "f(d_{⊙}) = F_{⊙}  \\frac{R_{⊙}^2}{d_{⊙}^2}\n",
    "\\end{align}\n",
    "\n",
    "This equation can now be related to the solid angle equation through $\\frac{R_{⊙}^2}{d_{⊙}^2}$:\n",
    "\n",
    "\\begin{align}\n",
    "\\frac{\\Omega}{\\pi} = (\\frac{R_{⊙}}{d_{⊙}})^2 \\\\\n",
    "f(d_{⊙}) = F_{⊙}  \\frac{\\Omega}{\\pi}\\\\\n",
    "\\boxed{F_{⊙} = \\frac{\\pi f(d_{⊙})}{\\Omega}}\n",
    "\\end{align}"
   ]
  },
  {
   "cell_type": "markdown",
   "metadata": {},
   "source": [
    "# 2(b)"
   ]
  },
  {
   "cell_type": "markdown",
   "metadata": {},
   "source": [
    "To find the solid angle subtended by the sun in Sr is found using the equation:\n",
    "\\begin{align}\n",
    "\\Omega = \\pi (\\frac{\\alpha_{D,Sun}}{2})^2\n",
    "\\end{align}\n",
    "\n",
    "where $\\alpha_{D,Sun} = \\frac{0.57\\pi}{180\\degree}$\n",
    "\n",
    "\\begin{align}\n",
    "\\Omega = \\pi^3 (\\frac{0.57^2}{4*180^2})\\\\\n",
    "\\boxed{\\Omega \\approx 7.7\\times10^{-5} Sr}\n",
    "\\end{align}"
   ]
  },
  {
   "cell_type": "markdown",
   "metadata": {},
   "source": [
    "# 2(c)"
   ]
  },
  {
   "cell_type": "markdown",
   "metadata": {},
   "source": [
    "The Stefan-Boltzmann law states:\n",
    "\n",
    "\\begin{align}\n",
    "F_{⊙} = \\sigma T_{eff}^4\n",
    "\\end{align}\n",
    "\n",
    "To get the effective temperature of the sun we just apply our answers from part a and b $(\\Omega \\approx 7.7\\times 10^{-5} Sr)$ and the given value of $f(d_{⊙}) = 1.4 × 10^6 erg s^{−1} cm^{−2}$.\n",
    "\n",
    "\\begin{align}\n",
    "\\frac{\\pi f(d_{⊙})}{\\Omega} = \\sigma T_{eff}^4\\\\\n",
    "T_{eff} = \\sqrt[4]{\\frac{\\pi f(d_{⊙})}{\\Omega \\sigma}}\\\\\n",
    "\\boxed{T_{eff} \\approx 5633.79K}\n",
    "\\end{align}"
   ]
  },
  {
   "cell_type": "markdown",
   "metadata": {},
   "source": []
  }
 ],
 "metadata": {
  "kernelspec": {
   "display_name": "base",
   "language": "python",
   "name": "python3"
  },
  "language_info": {
   "codemirror_mode": {
    "name": "ipython",
    "version": 3
   },
   "file_extension": ".py",
   "mimetype": "text/x-python",
   "name": "python",
   "nbconvert_exporter": "python",
   "pygments_lexer": "ipython3",
   "version": "3.12.2"
  }
 },
 "nbformat": 4,
 "nbformat_minor": 2
}
